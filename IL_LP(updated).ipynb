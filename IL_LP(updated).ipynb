{
 "cells": [
  {
   "cell_type": "code",
   "execution_count": 9,
   "metadata": {},
   "outputs": [],
   "source": [
    "# IL_LP - the LP solution for the Interruptable type load with Electrical Machinery \n",
    "# Input:\n",
    "#       dt - the time step [scalar]\n",
    "#       pr - the array of prices from pr_b, ..., pr_e [array with shape (e-b+1,)]\n",
    "#       P - the power rate [scalar]\n",
    "#       E - the energy [scalar]\n",
    "#       T_off - the minimum off time [scalar]\n",
    "# Output:\n",
    "#       F - the value of objective function [scalar]\n",
    "#       x - the optimal schedule [array with shape 2 * (e-b+1,)]\n",
    "\n",
    "import numpy as np\n",
    "from scipy.linalg import toeplitz\n",
    "from scipy import optimize\n",
    "\n",
    "\n",
    "def IL_LP(dt, pr, P, E, T_off):\n",
    "    # N - the number of variables\n",
    "    N = len(pr)\n",
    "\n",
    "    ### Objective function\n",
    "    # c1 - the sub-vector of c corresponding to power statuses \n",
    "    c1 = dt * pr\n",
    "    # c2 - the sub-vector of c corresponding to ancillary binary variables\n",
    "    c2 = np.zeros(N)\n",
    "    c = np.concatenate((c1, c2))\n",
    "\n",
    "    ### Equality constraints   \n",
    "    # A_eq - the matrix for equality constraints\n",
    "    # A_eq - the array of ones corresponding to the total load consumption throughout the scheduling horizon = E\n",
    "    # supplemented by the array of zeros corresponding to ancillary binary variables\n",
    "    A_eq = np.concatenate((np.ones((1, N), dtype=int), np.zeros((1, N), dtype=int)), axis=1)\n",
    "    # b_eq - the vector for equality constraints\n",
    "    b_eq = E / dt\n",
    "\n",
    "    ### Inequality constraints\n",
    "    ## Upper and lower bound for each variable\n",
    "    # A_bound_up - the matrix of upper bounds; A_bound_low - the matrix of lower bounds\n",
    "    A_bound_up = np.eye(N, dtype=int)\n",
    "    A_bound_low = -1 * A_bound_up\n",
    "    # A_ub - the matrix for inequality constraints\n",
    "    # construct the sub-matrix of A_ub corresponding to upper and lower bounds\n",
    "    A_ub = np.concatenate((A_bound_up, A_bound_low))\n",
    "    A_ub = np.concatenate((A_ub, np.zeros(A_ub.shape, dtype=int)), axis=1)\n",
    "    # b_ub - the vector for inequality constraints\n",
    "    # b_bound_up - the vector correspond to upper bounds; b_bound_low - the vector correspond to lower bounds;\n",
    "    b_bound_up = P * np.ones((N, 1), dtype=int)\n",
    "    b_bound_low = np.zeros((N, 1), dtype=int)\n",
    "    # construct the sub-vector of b_ub corresponding to upper and lower bounds\n",
    "    b_ub = np.concatenate((b_bound_up, b_bound_low))\n",
    "\n",
    "    ## Ancillary minimum off-time constaints\n",
    "    # construct the matrix for inequalities\n",
    "    for i in range(T_off - 1):\n",
    "        # construct the band matrix with elements 1; -1; (corresponding to the changing a switching-off) and\n",
    "        # 1 on the i-th position (corresponding to a switching-on after i time steps)\n",
    "        # first_column = np.concatenate(([[1]], np.zeros((N - T_off - i, 1), dtype=int)))\n",
    "        first_column = np.concatenate(([[1]], np.zeros((N - T_off - 1, 1), dtype=int)))\n",
    "        first_row = np.concatenate(([1], [-1], np.zeros(i, dtype=int), [1], np.zeros(N - 3 - i, dtype=int)))\n",
    "        # A_ub_mt - the band matrix \n",
    "        A_ub_mt = toeplitz(first_column, first_row)\n",
    "        # supplement A_ub_mt with additional zeros corresponding to power status variables\n",
    "        A_ub_mt = np.concatenate((np.zeros(A_ub_mt.shape, dtype=int), A_ub_mt), axis=1)\n",
    "        # join to the A_ub\n",
    "        A_ub = np.concatenate((A_ub, A_ub_mt))\n",
    "    # construct the vector for inequalities\n",
    "    b_row_size = int((N - T_off) * (T_off - 1))\n",
    "    b_ub = np.concatenate((b_ub, np.ones((b_row_size, 1), dtype=int)))\n",
    "    ## Connection between x and y constaints\n",
    "    # A_x - the coefficient matrix of x\n",
    "    A_x = np.eye(N, dtype=int)\n",
    "    # A_y - the coefficient matrix of y\n",
    "    A_y = -P * np.eye(N, dtype=int)\n",
    "    # A_xy - the coefficient matrix of the inequality\n",
    "    A_xy = np.concatenate((A_x, A_y), axis=1)\n",
    "    A_ub = np.concatenate((A_ub, A_xy))\n",
    "    b_ub = np.concatenate((b_ub, np.zeros((N, 1), dtype=int)))\n",
    "    ### LP solution\n",
    "    solution = optimize.linprog(c, A_ub, b_ub, A_eq, b_eq, method='simplex')\n",
    "    # the value of objective function\n",
    "    F = solution.fun\n",
    "    # the optimal schedule\n",
    "    x = solution.x\n",
    "    return F, x"
   ]
  },
  {
   "cell_type": "code",
   "execution_count": 11,
   "metadata": {},
   "outputs": [
    {
     "data": {
      "text/plain": [
       "(25000.0, array([ 20. ,  20. ,  20. ,  20. ,  10. ,   0. ,   1. ,   1. ,   1. ,\n",
       "          1. ,   0.5,   0. ]))"
      ]
     },
     "execution_count": 11,
     "metadata": {},
     "output_type": "execute_result"
    }
   ],
   "source": [
    "dt = 10\n",
    "pr = np.array([10,20,30,40,50,60])\n",
    "P = 20\n",
    "E = 900\n",
    "T_off = 4\n",
    "IL_LP(dt, pr, P, E, T_off)"
   ]
  },
  {
   "cell_type": "code",
   "execution_count": 13,
   "metadata": {},
   "outputs": [
    {
     "data": {
      "text/plain": [
       "(9000.0, array([ 20.,  10.,  20.,   0.,   0.,   1.,   1.,   1.,   0.,   0.]))"
      ]
     },
     "execution_count": 13,
     "metadata": {},
     "output_type": "execute_result"
    }
   ],
   "source": [
    "dt = 10\n",
    "pr = np.array([10,50,10,50,50])\n",
    "P = 20\n",
    "E = 500\n",
    "T_off = 2\n",
    "IL_LP(dt, pr, P, E, T_off)"
   ]
  },
  {
   "cell_type": "code",
   "execution_count": 18,
   "metadata": {},
   "outputs": [
    {
     "data": {
      "text/plain": [
       "(90.0, array([ 0.        ,  0.        ,  0.        ,  0.        ,  0.        ,\n",
       "         9.        ,  0.        ,  0.        ,  0.        ,  0.        ,\n",
       "         0.        ,  0.69230769]))"
      ]
     },
     "execution_count": 18,
     "metadata": {},
     "output_type": "execute_result"
    }
   ],
   "source": [
    "dt = 10\n",
    "pr = np.array([10,50,2,10,50,1])\n",
    "P = 13\n",
    "E = 90\n",
    "T_off = 2\n",
    "IL_LP(dt, pr, P, E, T_off)"
   ]
  }
 ],
 "metadata": {
  "kernelspec": {
   "display_name": "Python 3",
   "language": "python",
   "name": "python3"
  },
  "language_info": {
   "codemirror_mode": {
    "name": "ipython",
    "version": 3
   },
   "file_extension": ".py",
   "mimetype": "text/x-python",
   "name": "python",
   "nbconvert_exporter": "python",
   "pygments_lexer": "ipython3",
   "version": "3.6.2"
  }
 },
 "nbformat": 4,
 "nbformat_minor": 2
}
